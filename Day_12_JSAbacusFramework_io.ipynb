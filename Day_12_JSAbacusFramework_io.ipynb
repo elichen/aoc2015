{
  "nbformat": 4,
  "nbformat_minor": 0,
  "metadata": {
    "colab": {
      "provenance": [],
      "authorship_tag": "ABX9TyOd3uw+DuhhK0KTvTb/I4k0",
      "include_colab_link": true
    },
    "kernelspec": {
      "name": "python3",
      "display_name": "Python 3"
    },
    "language_info": {
      "name": "python"
    }
  },
  "cells": [
    {
      "cell_type": "markdown",
      "metadata": {
        "id": "view-in-github",
        "colab_type": "text"
      },
      "source": [
        "<a href=\"https://colab.research.google.com/github/elichen/aoc2015/blob/main/Day_12_JSAbacusFramework_io.ipynb\" target=\"_parent\"><img src=\"https://colab.research.google.com/assets/colab-badge.svg\" alt=\"Open In Colab\"/></a>"
      ]
    },
    {
      "cell_type": "code",
      "execution_count": 22,
      "metadata": {
        "colab": {
          "base_uri": "https://localhost:8080/"
        },
        "id": "Ld4ljTOKJCjM",
        "outputId": "003a4342-943b-4338-d4ed-ecacffc3abad"
      },
      "outputs": [
        {
          "output_type": "execute_result",
          "data": {
            "text/plain": [
              "119433"
            ]
          },
          "metadata": {},
          "execution_count": 22
        }
      ],
      "source": [
        "import json\n",
        "\n",
        "def sumnum(o):\n",
        "  if isinstance(o, dict):\n",
        "    return sumnum(list(o.values()))\n",
        "  elif isinstance(o, list):\n",
        "    return sum((sumnum(x) for x in o))\n",
        "  elif isinstance(o, int):\n",
        "    return o\n",
        "  else:\n",
        "    return 0\n",
        "\n",
        "data = open(\"input.txt\").read().strip()\n",
        "sumnum(json.loads(data))"
      ]
    },
    {
      "cell_type": "code",
      "source": [
        "def sumnum(o):\n",
        "  if isinstance(o, dict):\n",
        "    if \"red\" not in o.values():\n",
        "      return sumnum(list(o.values()))\n",
        "    else:\n",
        "      return 0\n",
        "  elif isinstance(o, list):\n",
        "    return sum((sumnum(x) for x in o))\n",
        "  elif isinstance(o, int):\n",
        "    return o\n",
        "  else:\n",
        "    return 0\n",
        "\n",
        "data = open(\"input.txt\").read().strip()\n",
        "sumnum(json.loads(data))"
      ],
      "metadata": {
        "colab": {
          "base_uri": "https://localhost:8080/"
        },
        "id": "zEqy-vf4LuGh",
        "outputId": "a5813a0b-386f-46ab-d9d8-7ffb9aed20fc"
      },
      "execution_count": 40,
      "outputs": [
        {
          "output_type": "execute_result",
          "data": {
            "text/plain": [
              "68466"
            ]
          },
          "metadata": {},
          "execution_count": 40
        }
      ]
    }
  ]
}