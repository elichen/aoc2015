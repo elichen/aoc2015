{
  "nbformat": 4,
  "nbformat_minor": 0,
  "metadata": {
    "colab": {
      "provenance": [],
      "authorship_tag": "ABX9TyNb24VN3BfDk/zpNugwm7wE",
      "include_colab_link": true
    },
    "kernelspec": {
      "name": "python3",
      "display_name": "Python 3"
    },
    "language_info": {
      "name": "python"
    }
  },
  "cells": [
    {
      "cell_type": "markdown",
      "metadata": {
        "id": "view-in-github",
        "colab_type": "text"
      },
      "source": [
        "<a href=\"https://colab.research.google.com/github/elichen/aoc2015/blob/main/Day_14_Reindeer_Olympics.ipynb\" target=\"_parent\"><img src=\"https://colab.research.google.com/assets/colab-badge.svg\" alt=\"Open In Colab\"/></a>"
      ]
    },
    {
      "cell_type": "code",
      "source": [
        "data = \"\"\"Comet can fly 14 km/s for 10 seconds, but then must rest for 127 seconds.\n",
        "Dancer can fly 16 km/s for 11 seconds, but then must rest for 162 seconds.\"\"\".split('\\n')"
      ],
      "metadata": {
        "id": "lng2E0xHexF9"
      },
      "execution_count": 57,
      "outputs": []
    },
    {
      "cell_type": "code",
      "execution_count": 58,
      "metadata": {
        "id": "MVSD74MSeskH"
      },
      "outputs": [],
      "source": [
        "data = \"\"\"Vixen can fly 8 km/s for 8 seconds, but then must rest for 53 seconds.\n",
        "Blitzen can fly 13 km/s for 4 seconds, but then must rest for 49 seconds.\n",
        "Rudolph can fly 20 km/s for 7 seconds, but then must rest for 132 seconds.\n",
        "Cupid can fly 12 km/s for 4 seconds, but then must rest for 43 seconds.\n",
        "Donner can fly 9 km/s for 5 seconds, but then must rest for 38 seconds.\n",
        "Dasher can fly 10 km/s for 4 seconds, but then must rest for 37 seconds.\n",
        "Comet can fly 3 km/s for 37 seconds, but then must rest for 76 seconds.\n",
        "Prancer can fly 9 km/s for 12 seconds, but then must rest for 97 seconds.\n",
        "Dancer can fly 37 km/s for 1 seconds, but then must rest for 36 seconds.\"\"\".split('\\n')"
      ]
    },
    {
      "cell_type": "code",
      "source": [
        "t = 2503\n",
        "max_dist = 0\n",
        "for line in data:\n",
        "  l = line.split()\n",
        "  name = l[0]\n",
        "  speed = int(l[3])\n",
        "  flytime = int(l[6])\n",
        "  resttime = int(l[-2])\n",
        "  cycles = t // (flytime+resttime)\n",
        "  remain = t % (flytime+resttime)\n",
        "  max_dist = max(cycles*speed*flytime + min(remain,flytime)*speed, max_dist)\n",
        "max_dist"
      ],
      "metadata": {
        "colab": {
          "base_uri": "https://localhost:8080/"
        },
        "id": "NHZtcbLve1dq",
        "outputId": "90e512f7-31bc-4157-fad7-c609404b2820"
      },
      "execution_count": 59,
      "outputs": [
        {
          "output_type": "execute_result",
          "data": {
            "text/plain": [
              "2655"
            ]
          },
          "metadata": {},
          "execution_count": 59
        }
      ]
    },
    {
      "cell_type": "code",
      "source": [
        "t = 2503\n",
        "reindeers = {}\n",
        "for line in data:\n",
        "  l = line.split()\n",
        "  name = l[0]\n",
        "  speed = int(l[3])\n",
        "  flytime = int(l[6])\n",
        "  resttime = int(l[-2])\n",
        "  mode = \"flying\"\n",
        "  timeleft = flytime\n",
        "  reindeers[name] = {'speed':speed, 'flytime':flytime, 'resttime':resttime,\n",
        "                    'mode':mode, 'timeleft': flytime, 'dist': 0, 'points':0}\n",
        "\n",
        "for i in range(t):\n",
        "    for k,v in reindeers.items():\n",
        "      if v['mode'] == 'flying':\n",
        "        v['dist'] += v['speed']\n",
        "      v['timeleft'] -= 1\n",
        "      if v['timeleft'] == 0:\n",
        "        v['mode'] = 'flying' if v['mode']=='resting' else 'resting'\n",
        "        v['timeleft'] = v['flytime'] if v['mode']=='flying' else v['resttime']\n",
        "    max_dist = max(reindeers[key]['dist'] for key in reindeers)\n",
        "    for k in [key for key, val in reindeers.items() if val['dist'] == max_dist]:\n",
        "      reindeers[k]['points'] += 1\n",
        "max(reindeers[key]['points'] for key in reindeers)"
      ],
      "metadata": {
        "colab": {
          "base_uri": "https://localhost:8080/"
        },
        "id": "4GNt_4-yhOWc",
        "outputId": "0c50685a-e9d6-4d3b-8ee0-2682a54f142e"
      },
      "execution_count": 60,
      "outputs": [
        {
          "output_type": "execute_result",
          "data": {
            "text/plain": [
              "1059"
            ]
          },
          "metadata": {},
          "execution_count": 60
        }
      ]
    }
  ]
}