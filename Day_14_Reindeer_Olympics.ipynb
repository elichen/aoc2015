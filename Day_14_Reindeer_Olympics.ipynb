{
  "nbformat": 4,
  "nbformat_minor": 0,
  "metadata": {
    "colab": {
      "provenance": [],
      "authorship_tag": "ABX9TyN3EOblxeY2pXQ4V5h7jmUf",
      "include_colab_link": true
    },
    "kernelspec": {
      "name": "python3",
      "display_name": "Python 3"
    },
    "language_info": {
      "name": "python"
    }
  },
  "cells": [
    {
      "cell_type": "markdown",
      "metadata": {
        "id": "view-in-github",
        "colab_type": "text"
      },
      "source": [
        "<a href=\"https://colab.research.google.com/github/elichen/aoc2015/blob/main/Day_14_Reindeer_Olympics.ipynb\" target=\"_parent\"><img src=\"https://colab.research.google.com/assets/colab-badge.svg\" alt=\"Open In Colab\"/></a>"
      ]
    },
    {
      "cell_type": "code",
      "source": [
        "data = \"\"\"Comet can fly 14 km/s for 10 seconds, but then must rest for 127 seconds.\n",
        "Dancer can fly 16 km/s for 11 seconds, but then must rest for 162 seconds.\"\"\".split('\\n')"
      ],
      "metadata": {
        "id": "lng2E0xHexF9"
      },
      "execution_count": 24,
      "outputs": []
    },
    {
      "cell_type": "code",
      "execution_count": 31,
      "metadata": {
        "id": "MVSD74MSeskH"
      },
      "outputs": [],
      "source": [
        "data = \"\"\"Vixen can fly 8 km/s for 8 seconds, but then must rest for 53 seconds.\n",
        "Blitzen can fly 13 km/s for 4 seconds, but then must rest for 49 seconds.\n",
        "Rudolph can fly 20 km/s for 7 seconds, but then must rest for 132 seconds.\n",
        "Cupid can fly 12 km/s for 4 seconds, but then must rest for 43 seconds.\n",
        "Donner can fly 9 km/s for 5 seconds, but then must rest for 38 seconds.\n",
        "Dasher can fly 10 km/s for 4 seconds, but then must rest for 37 seconds.\n",
        "Comet can fly 3 km/s for 37 seconds, but then must rest for 76 seconds.\n",
        "Prancer can fly 9 km/s for 12 seconds, but then must rest for 97 seconds.\n",
        "Dancer can fly 37 km/s for 1 seconds, but then must rest for 36 seconds.\"\"\".split('\\n')"
      ]
    },
    {
      "cell_type": "code",
      "source": [
        "t = 2503\n",
        "max_dist = 0\n",
        "for line in data:\n",
        "  l = line.split()\n",
        "  name = l[0]\n",
        "  speed = int(l[3])\n",
        "  flytime = int(l[6])\n",
        "  resttime = int(l[-2])\n",
        "  cycles = t // (flytime+resttime)\n",
        "  remain = t % (flytime+resttime)\n",
        "  max_dist = max(cycles*speed*flytime + min(remain,flytime)*speed, max_dist)\n",
        "max_dist"
      ],
      "metadata": {
        "colab": {
          "base_uri": "https://localhost:8080/"
        },
        "id": "NHZtcbLve1dq",
        "outputId": "0d606b51-c271-4719-a8db-af9b1d57224e"
      },
      "execution_count": 33,
      "outputs": [
        {
          "output_type": "execute_result",
          "data": {
            "text/plain": [
              "2655"
            ]
          },
          "metadata": {},
          "execution_count": 33
        }
      ]
    },
    {
      "cell_type": "code",
      "source": [],
      "metadata": {
        "id": "4GNt_4-yhOWc"
      },
      "execution_count": 22,
      "outputs": []
    }
  ]
}