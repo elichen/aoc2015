{
  "nbformat": 4,
  "nbformat_minor": 0,
  "metadata": {
    "colab": {
      "provenance": [],
      "authorship_tag": "ABX9TyO+XFqqQVMu/A9m+Fef453X",
      "include_colab_link": true
    },
    "kernelspec": {
      "name": "python3",
      "display_name": "Python 3"
    },
    "language_info": {
      "name": "python"
    }
  },
  "cells": [
    {
      "cell_type": "markdown",
      "metadata": {
        "id": "view-in-github",
        "colab_type": "text"
      },
      "source": [
        "<a href=\"https://colab.research.google.com/github/elichen/aoc2015/blob/main/Day_16_Aunt_Sue.ipynb\" target=\"_parent\"><img src=\"https://colab.research.google.com/assets/colab-badge.svg\" alt=\"Open In Colab\"/></a>"
      ]
    },
    {
      "cell_type": "code",
      "execution_count": 2,
      "metadata": {
        "id": "4XkXqe8i0qD6"
      },
      "outputs": [],
      "source": [
        "data = open(\"input.txt\").read().splitlines()"
      ]
    },
    {
      "cell_type": "code",
      "source": [
        "output = \"\"\"children: 3\n",
        "cats: 7\n",
        "samoyeds: 2\n",
        "pomeranians: 3\n",
        "akitas: 0\n",
        "vizslas: 0\n",
        "goldfish: 5\n",
        "trees: 3\n",
        "cars: 2\n",
        "perfumes: 1\"\"\".split('\\n')"
      ],
      "metadata": {
        "id": "p4Mmf3Yl05qA"
      },
      "execution_count": 7,
      "outputs": []
    },
    {
      "cell_type": "code",
      "source": [
        "gift = {}\n",
        "for line in output:\n",
        "  k,v = line.split(': ')\n",
        "  gift[k] = int(v)"
      ],
      "metadata": {
        "id": "rjBQJIrG1FYY"
      },
      "execution_count": 10,
      "outputs": []
    },
    {
      "cell_type": "code",
      "source": [
        "name_idx = data[0].index(': ')\n",
        "data[0][name_idx+2:].split(', ')"
      ],
      "metadata": {
        "colab": {
          "base_uri": "https://localhost:8080/"
        },
        "id": "Wt3yQNRA385M",
        "outputId": "aa301333-a974-4d77-fa99-1949a7a9a196"
      },
      "execution_count": 31,
      "outputs": [
        {
          "output_type": "execute_result",
          "data": {
            "text/plain": [
              "['cars: 9', 'akitas: 3', 'goldfish: 0']"
            ]
          },
          "metadata": {},
          "execution_count": 31
        }
      ]
    },
    {
      "cell_type": "code",
      "source": [
        "import re\n",
        "for line in data:\n",
        "  name_idx = line.index(': ')\n",
        "  name = line[:name_idx]\n",
        "  kvs = line[name_idx+2:].split(', ')\n",
        "  for pair in kvs:\n",
        "    k,v = pair.split(': ')\n",
        "    if gift[k] != int(v):\n",
        "      break\n",
        "  else:\n",
        "    print(name)"
      ],
      "metadata": {
        "colab": {
          "base_uri": "https://localhost:8080/"
        },
        "id": "mXSTVbjj2Ecq",
        "outputId": "2f72dc74-d13f-47dd-fdd1-016b723ab313"
      },
      "execution_count": 33,
      "outputs": [
        {
          "output_type": "stream",
          "name": "stdout",
          "text": [
            "Sue 373\n"
          ]
        }
      ]
    }
  ]
}