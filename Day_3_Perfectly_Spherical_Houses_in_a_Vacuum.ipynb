{
  "nbformat": 4,
  "nbformat_minor": 0,
  "metadata": {
    "colab": {
      "provenance": [],
      "authorship_tag": "ABX9TyMOmrJdgl3r90oFkjzIw4VA",
      "include_colab_link": true
    },
    "kernelspec": {
      "name": "python3",
      "display_name": "Python 3"
    },
    "language_info": {
      "name": "python"
    }
  },
  "cells": [
    {
      "cell_type": "markdown",
      "metadata": {
        "id": "view-in-github",
        "colab_type": "text"
      },
      "source": [
        "<a href=\"https://colab.research.google.com/github/elichen/aoc2015/blob/main/Day_3_Perfectly_Spherical_Houses_in_a_Vacuum.ipynb\" target=\"_parent\"><img src=\"https://colab.research.google.com/assets/colab-badge.svg\" alt=\"Open In Colab\"/></a>"
      ]
    },
    {
      "cell_type": "code",
      "execution_count": 56,
      "metadata": {
        "id": "q-RV-pR28IBE"
      },
      "outputs": [],
      "source": [
        "data = open(\"input.txt\").read()"
      ]
    },
    {
      "cell_type": "code",
      "source": [
        "x,y = 0,0\n",
        "dirs = {\"^\": (0,1), \">\": (1,0), \"v\":(0,-1), \"<\":(-1,0)}\n",
        "presents = {(0,0):1}\n",
        "for c in data:\n",
        "  dx,dy = dirs[c]\n",
        "  x,y = x+dx,y+dy\n",
        "  presents[(x,y)] = presents.get((x,y),0)+1\n",
        "len(presents.keys())"
      ],
      "metadata": {
        "colab": {
          "base_uri": "https://localhost:8080/"
        },
        "id": "3uTZ1Wgr8Swk",
        "outputId": "d8349314-1ecb-4103-dcee-e5c4a845b73d"
      },
      "execution_count": 57,
      "outputs": [
        {
          "output_type": "execute_result",
          "data": {
            "text/plain": [
              "2572"
            ]
          },
          "metadata": {},
          "execution_count": 57
        }
      ]
    },
    {
      "cell_type": "code",
      "source": [
        "x,y = [0,0],[0,0]\n",
        "dirs = {\"^\": (0,1), \">\": (1,0), \"v\":(0,-1), \"<\":(-1,0)}\n",
        "presents = {(0,0):1}\n",
        "who = 0\n",
        "for c in data:\n",
        "  dx,dy = dirs[c]\n",
        "  x[who],y[who] = x[who]+dx,y[who]+dy\n",
        "  presents[(x[who],y[who])] = presents.get((x[who],y[who]),0)+1\n",
        "  who = (who+1)%2\n",
        "len(presents.keys())"
      ],
      "metadata": {
        "colab": {
          "base_uri": "https://localhost:8080/"
        },
        "id": "yWbPvn6F9L0v",
        "outputId": "4496c2bb-039d-4493-c260-6a499e969f3f"
      },
      "execution_count": 58,
      "outputs": [
        {
          "output_type": "execute_result",
          "data": {
            "text/plain": [
              "2631"
            ]
          },
          "metadata": {},
          "execution_count": 58
        }
      ]
    }
  ]
}