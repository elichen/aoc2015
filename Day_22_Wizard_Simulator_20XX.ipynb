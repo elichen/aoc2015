{
  "nbformat": 4,
  "nbformat_minor": 0,
  "metadata": {
    "colab": {
      "provenance": [],
      "authorship_tag": "ABX9TyN19IKKDnba8Zx3I/dSL4ut",
      "include_colab_link": true
    },
    "kernelspec": {
      "name": "python3",
      "display_name": "Python 3"
    },
    "language_info": {
      "name": "python"
    }
  },
  "cells": [
    {
      "cell_type": "markdown",
      "metadata": {
        "id": "view-in-github",
        "colab_type": "text"
      },
      "source": [
        "<a href=\"https://colab.research.google.com/github/elichen/aoc2015/blob/main/Day_22_Wizard_Simulator_20XX.ipynb\" target=\"_parent\"><img src=\"https://colab.research.google.com/assets/colab-badge.svg\" alt=\"Open In Colab\"/></a>"
      ]
    },
    {
      "cell_type": "code",
      "execution_count": null,
      "metadata": {
        "id": "KcwwnhlueoKF"
      },
      "outputs": [],
      "source": [
        "# Boss\n",
        "# Hit Points: 55\n",
        "# Damage: 8"
      ]
    },
    {
      "cell_type": "code",
      "source": [
        "def apply_effects(ph, pa, pm, ps, pp, pr, bh, bd, turn):\n",
        "  if ps > 0:\n",
        "    pa += 7\n",
        "    ps -= 1\n",
        "  if pp > 0:\n",
        "    bh -= 3\n",
        "    pp -= 1\n",
        "  if pr > 0:\n",
        "    pm += 101\n",
        "    pr -= 1\n",
        "  return ph, pa, pm, ps, pp, pr, bh, bd, turn\n",
        "\n",
        "def play(ph, pa, pm, ps, pp, pr, bh, bd, turn):\n",
        "  q = [(ph, pa, pm, ps, pp, pr, bh, bd, turn, 0)]\n",
        "  min_spent = float(\"inf\")\n",
        "  while q:\n",
        "    # print(\"---\")\n",
        "    new_q = []\n",
        "    for state in q:\n",
        "      (ph, pa, pm, ps, pp, pr, bh, bd, turn, spent) = state\n",
        "      if spent > min_spent: continue\n",
        "      # print(ph, pa, pm, ps, pp, pr, bh, bd, turn, spent)\n",
        "      pa = 0\n",
        "      (ph, pa, pm, ps, pp, pr, bh, bd, turn) = apply_effects(ph, pa, pm, ps, pp, pr, bh, bd, turn)\n",
        "      if ph <= 0: continue\n",
        "      if bh <= 0:\n",
        "        min_spent = min(min_spent, spent)\n",
        "        continue\n",
        "      if turn == 0: # player\n",
        "        turn = (turn+1)%2\n",
        "        if pm >= 53:\n",
        "          new_q.append((ph, pa, pm-53, ps, pp, pr, bh-4, bd, turn, spent+53)) # magic missle\n",
        "        if pm >= 73:\n",
        "          new_q.append((ph+2, pa, pm-73, ps, pp, pr, bh-2, bd, turn, spent+73)) # drain\n",
        "        if ps == 0 and pm >= 113:\n",
        "          new_q.append((ph, pa, pm-113, ps+6, pp, pr, bh, bd, turn, spent+113)) # shield\n",
        "        if pp == 0 and pm >= 173:\n",
        "          new_q.append((ph, pa, pm-173, ps, pp+6, pr, bh, bd, turn, spent+173)) # poison\n",
        "        if pr == 0 and pm >= 229:\n",
        "          new_q.append((ph, pa, pm-229, ps, pp, pr+5, bh, bd, turn, spent+229)) # recharge\n",
        "      else:\n",
        "        turn = (turn+1)%2\n",
        "        damage = max(1,bd-pa)\n",
        "        if ph-damage > 0:\n",
        "          new_q.append((ph-damage, pa, pm, ps, pp, pr, bh, bd, turn, spent)) # boss attacks\n",
        "    q = new_q\n",
        "  return min_spent\n",
        "\n",
        "play(50,0,500,0,0,0,55,8,0)\n",
        "# play(10,0,250,0,0,0,14,8,0)"
      ],
      "metadata": {
        "colab": {
          "base_uri": "https://localhost:8080/"
        },
        "id": "eXxi5aNffL4i",
        "outputId": "9a914cf7-c304-4d55-def3-e2ee9ccfa4d3"
      },
      "execution_count": 44,
      "outputs": [
        {
          "output_type": "execute_result",
          "data": {
            "text/plain": [
              "953"
            ]
          },
          "metadata": {},
          "execution_count": 44
        }
      ]
    },
    {
      "cell_type": "code",
      "source": [
        "def play2(ph, pa, pm, ps, pp, pr, bh, bd, turn):\n",
        "  q = [(ph, pa, pm, ps, pp, pr, bh, bd, turn, 0)]\n",
        "  min_spent = float(\"inf\")\n",
        "  while q:\n",
        "    # print(\"---\")\n",
        "    new_q = []\n",
        "    for state in q:\n",
        "      (ph, pa, pm, ps, pp, pr, bh, bd, turn, spent) = state\n",
        "      if spent > min_spent: continue\n",
        "      # print(ph, pa, pm, ps, pp, pr, bh, bd, turn, spent)\n",
        "      if turn == 0: ph -= 1\n",
        "      pa = 0\n",
        "      (ph, pa, pm, ps, pp, pr, bh, bd, turn) = apply_effects(ph, pa, pm, ps, pp, pr, bh, bd, turn)\n",
        "      if ph <= 0: continue\n",
        "      if bh <= 0:\n",
        "        min_spent = min(min_spent, spent)\n",
        "        continue\n",
        "      if turn == 0: # player\n",
        "        turn = (turn+1)%2\n",
        "        if pm >= 53:\n",
        "          new_q.append((ph, pa, pm-53, ps, pp, pr, bh-4, bd, turn, spent+53)) # magic missle\n",
        "        if pm >= 73:\n",
        "          new_q.append((ph+2, pa, pm-73, ps, pp, pr, bh-2, bd, turn, spent+73)) # drain\n",
        "        if ps == 0 and pm >= 113:\n",
        "          new_q.append((ph, pa, pm-113, ps+6, pp, pr, bh, bd, turn, spent+113)) # shield\n",
        "        if pp == 0 and pm >= 173:\n",
        "          new_q.append((ph, pa, pm-173, ps, pp+6, pr, bh, bd, turn, spent+173)) # poison\n",
        "        if pr == 0 and pm >= 229:\n",
        "          new_q.append((ph, pa, pm-229, ps, pp, pr+5, bh, bd, turn, spent+229)) # recharge\n",
        "      else:\n",
        "        turn = (turn+1)%2\n",
        "        damage = max(1,bd-pa)\n",
        "        if ph-damage > 0:\n",
        "          new_q.append((ph-damage, pa, pm, ps, pp, pr, bh, bd, turn, spent)) # boss attacks\n",
        "    q = new_q\n",
        "  return min_spent\n",
        "\n",
        "play2(50,0,500,0,0,0,55,8,0)"
      ],
      "metadata": {
        "colab": {
          "base_uri": "https://localhost:8080/"
        },
        "id": "UOSlfJfx6akx",
        "outputId": "4d8cea33-ce84-478f-f0b1-39fe147888d7"
      },
      "execution_count": 47,
      "outputs": [
        {
          "output_type": "execute_result",
          "data": {
            "text/plain": [
              "1289"
            ]
          },
          "metadata": {},
          "execution_count": 47
        }
      ]
    }
  ]
}