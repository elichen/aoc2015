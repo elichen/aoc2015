{
  "nbformat": 4,
  "nbformat_minor": 0,
  "metadata": {
    "colab": {
      "provenance": [],
      "authorship_tag": "ABX9TyMtNzitEPQgbaQaIgqsv9nv",
      "include_colab_link": true
    },
    "kernelspec": {
      "name": "python3",
      "display_name": "Python 3"
    },
    "language_info": {
      "name": "python"
    }
  },
  "cells": [
    {
      "cell_type": "markdown",
      "metadata": {
        "id": "view-in-github",
        "colab_type": "text"
      },
      "source": [
        "<a href=\"https://colab.research.google.com/github/elichen/aoc2015/blob/main/Day_17_No_Such_Thing_as_Too_Much.ipynb\" target=\"_parent\"><img src=\"https://colab.research.google.com/assets/colab-badge.svg\" alt=\"Open In Colab\"/></a>"
      ]
    },
    {
      "cell_type": "code",
      "execution_count": 13,
      "metadata": {
        "id": "QkEob32Jkwb1"
      },
      "outputs": [],
      "source": [
        "data = \"\"\"33\n",
        "14\n",
        "18\n",
        "20\n",
        "45\n",
        "35\n",
        "16\n",
        "35\n",
        "1\n",
        "13\n",
        "18\n",
        "13\n",
        "50\n",
        "44\n",
        "48\n",
        "6\n",
        "24\n",
        "41\n",
        "30\n",
        "42\"\"\".split('\\n')"
      ]
    },
    {
      "cell_type": "code",
      "source": [
        "# cs = [20, 15, 10, 5, 5]\n",
        "cs = [int(x) for x in data]\n",
        "total = [0]\n",
        "goal = 150\n",
        "def combinations(selected, rest):\n",
        "  if sum([cs[i] for i in selected]) == goal:\n",
        "    total[0] += 1\n",
        "    return\n",
        "  if sum(selected) < goal:\n",
        "    for i,n in enumerate(rest):\n",
        "      combinations(selected+[n], rest[i+1:])\n",
        "combinations([], list(range(len(cs))))\n",
        "total[0]"
      ],
      "metadata": {
        "colab": {
          "base_uri": "https://localhost:8080/"
        },
        "id": "O-oEBrvf5NhO",
        "outputId": "aad1850d-d05d-4662-b795-077e6356d687"
      },
      "execution_count": 17,
      "outputs": [
        {
          "output_type": "execute_result",
          "data": {
            "text/plain": [
              "1304"
            ]
          },
          "metadata": {},
          "execution_count": 17
        }
      ]
    },
    {
      "cell_type": "code",
      "source": [
        "from collections import Counter\n",
        "\n",
        "# cs = [20, 15, 10, 5, 5]\n",
        "cs = [int(x) for x in data]\n",
        "total = [0]\n",
        "goal = 150\n",
        "counter = Counter()\n",
        "def combinations(selected, rest):\n",
        "  if sum([cs[i] for i in selected]) == goal:\n",
        "    counter[len(selected)] += 1\n",
        "    return\n",
        "  if sum(selected) < goal:\n",
        "    for i,n in enumerate(rest):\n",
        "      combinations(selected+[n], rest[i+1:])\n",
        "combinations([], list(range(len(cs))))\n",
        "counter[min(counter)]"
      ],
      "metadata": {
        "colab": {
          "base_uri": "https://localhost:8080/"
        },
        "id": "a9b1eFmR6LXT",
        "outputId": "41a0e8e3-3341-47c3-8415-a1aff2ebe593"
      },
      "execution_count": 24,
      "outputs": [
        {
          "output_type": "execute_result",
          "data": {
            "text/plain": [
              "18"
            ]
          },
          "metadata": {},
          "execution_count": 24
        }
      ]
    }
  ]
}