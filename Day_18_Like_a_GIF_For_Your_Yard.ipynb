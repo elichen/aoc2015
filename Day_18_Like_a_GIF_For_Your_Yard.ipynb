{
  "nbformat": 4,
  "nbformat_minor": 0,
  "metadata": {
    "colab": {
      "provenance": [],
      "authorship_tag": "ABX9TyMDzVtJAqYD+UXX2ir8Jsxi",
      "include_colab_link": true
    },
    "kernelspec": {
      "name": "python3",
      "display_name": "Python 3"
    },
    "language_info": {
      "name": "python"
    }
  },
  "cells": [
    {
      "cell_type": "markdown",
      "metadata": {
        "id": "view-in-github",
        "colab_type": "text"
      },
      "source": [
        "<a href=\"https://colab.research.google.com/github/elichen/aoc2015/blob/main/Day_18_Like_a_GIF_For_Your_Yard.ipynb\" target=\"_parent\"><img src=\"https://colab.research.google.com/assets/colab-badge.svg\" alt=\"Open In Colab\"/></a>"
      ]
    },
    {
      "cell_type": "code",
      "execution_count": 13,
      "metadata": {
        "id": "XauxvUsc-TJU"
      },
      "outputs": [],
      "source": [
        "data = \"\"\".#.#.#\n",
        "...##.\n",
        "#....#\n",
        "..#...\n",
        "#.#..#\n",
        "####..\"\"\".split('\\n')"
      ]
    },
    {
      "cell_type": "code",
      "source": [
        "data = open(\"input.txt\").read().splitlines()"
      ],
      "metadata": {
        "id": "80Tkd7yw_YzY"
      },
      "execution_count": 22,
      "outputs": []
    },
    {
      "cell_type": "code",
      "source": [
        "import numpy as np\n",
        "\n",
        "def next_state(current_state):\n",
        "    rows, cols = current_state.shape\n",
        "    next_state = np.zeros((rows, cols), dtype=int)\n",
        "\n",
        "    for row in range(rows):\n",
        "        for col in range(cols):\n",
        "            on_neighbors = 0\n",
        "            for i in range(max(0, row-1), min(rows, row+2)):\n",
        "                for j in range(max(0, col-1), min(cols, col+2)):\n",
        "                    if (i, j) != (row, col) and current_state[i, j] == 1:\n",
        "                        on_neighbors += 1\n",
        "\n",
        "            if current_state[row, col] == 1 and 2 <= on_neighbors <= 3:\n",
        "                next_state[row, col] = 1\n",
        "            elif current_state[row, col] == 0 and on_neighbors == 3:\n",
        "                next_state[row, col] = 1\n",
        "\n",
        "    return next_state\n",
        "\n",
        "m = np.array([[1 if char == '#' else 0 for char in row] for row in data])\n",
        "steps = 100\n",
        "for _ in range(steps):\n",
        "  m = next_state(m)\n",
        "np.sum(m)"
      ],
      "metadata": {
        "colab": {
          "base_uri": "https://localhost:8080/"
        },
        "id": "Y3ig9Z-0-qm3",
        "outputId": "4d819c5d-6255-4eef-93ed-c79e6ce2fac0"
      },
      "execution_count": 11,
      "outputs": [
        {
          "output_type": "execute_result",
          "data": {
            "text/plain": [
              "1061"
            ]
          },
          "metadata": {},
          "execution_count": 11
        }
      ]
    },
    {
      "cell_type": "code",
      "source": [
        "def set_corners_to_one(array):\n",
        "    if array.shape[0] >= 2 and array.shape[1] >= 2:\n",
        "        array[0, 0] = 1  # Top-left corner\n",
        "        array[0, -1] = 1  # Top-right corner\n",
        "        array[-1, 0] = 1  # Bottom-left corner\n",
        "        array[-1, -1] = 1  # Bottom-right corner\n",
        "    return array"
      ],
      "metadata": {
        "id": "DbkvZ7s2AEbf"
      },
      "execution_count": 14,
      "outputs": []
    },
    {
      "cell_type": "code",
      "source": [
        "m = np.array([[1 if char == '#' else 0 for char in row] for row in data])\n",
        "m = set_corners_to_one(m)\n",
        "steps = 100\n",
        "for _ in range(steps):\n",
        "  m = next_state(m)\n",
        "  m = set_corners_to_one(m)\n",
        "np.sum(m)"
      ],
      "metadata": {
        "colab": {
          "base_uri": "https://localhost:8080/"
        },
        "id": "_sl3lky9_dZS",
        "outputId": "510187b9-2c08-484b-b42f-72fcd99026b5"
      },
      "execution_count": 23,
      "outputs": [
        {
          "output_type": "execute_result",
          "data": {
            "text/plain": [
              "1006"
            ]
          },
          "metadata": {},
          "execution_count": 23
        }
      ]
    }
  ]
}