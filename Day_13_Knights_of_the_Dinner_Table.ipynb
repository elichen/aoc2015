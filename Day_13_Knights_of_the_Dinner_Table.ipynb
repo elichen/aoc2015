{
  "nbformat": 4,
  "nbformat_minor": 0,
  "metadata": {
    "colab": {
      "provenance": [],
      "authorship_tag": "ABX9TyMi17khcfKFSIGhz/vDr0WR",
      "include_colab_link": true
    },
    "kernelspec": {
      "name": "python3",
      "display_name": "Python 3"
    },
    "language_info": {
      "name": "python"
    }
  },
  "cells": [
    {
      "cell_type": "markdown",
      "metadata": {
        "id": "view-in-github",
        "colab_type": "text"
      },
      "source": [
        "<a href=\"https://colab.research.google.com/github/elichen/aoc2015/blob/main/Day_13_Knights_of_the_Dinner_Table.ipynb\" target=\"_parent\"><img src=\"https://colab.research.google.com/assets/colab-badge.svg\" alt=\"Open In Colab\"/></a>"
      ]
    },
    {
      "cell_type": "code",
      "execution_count": 40,
      "metadata": {
        "id": "mjs0PwB7M60H"
      },
      "outputs": [],
      "source": [
        "data = \"\"\"Alice would gain 54 happiness units by sitting next to Bob.\n",
        "Alice would lose 79 happiness units by sitting next to Carol.\n",
        "Alice would lose 2 happiness units by sitting next to David.\n",
        "Bob would gain 83 happiness units by sitting next to Alice.\n",
        "Bob would lose 7 happiness units by sitting next to Carol.\n",
        "Bob would lose 63 happiness units by sitting next to David.\n",
        "Carol would lose 62 happiness units by sitting next to Alice.\n",
        "Carol would gain 60 happiness units by sitting next to Bob.\n",
        "Carol would gain 55 happiness units by sitting next to David.\n",
        "David would gain 46 happiness units by sitting next to Alice.\n",
        "David would lose 7 happiness units by sitting next to Bob.\n",
        "David would gain 41 happiness units by sitting next to Carol.\"\"\".split('\\n')"
      ]
    },
    {
      "cell_type": "code",
      "source": [
        "data = open(\"input.txt\").read().splitlines()"
      ],
      "metadata": {
        "id": "f3HrtIBpQq69"
      },
      "execution_count": 41,
      "outputs": []
    },
    {
      "cell_type": "code",
      "source": [
        "m = {}\n",
        "guests = set()\n",
        "for line in data:\n",
        "  p, _, g, n, _, _, _, _, _, _, s = line.split()\n",
        "  n = int(n) * (-1 if g == \"lose\" else 1)\n",
        "  m[(p,s[:-1])] = n\n",
        "  guests.add(p)"
      ],
      "metadata": {
        "id": "A6q_bT4XNAxj"
      },
      "execution_count": 42,
      "outputs": []
    },
    {
      "cell_type": "code",
      "source": [
        "top_score = [0]\n",
        "def dfs(selected, rest, score):\n",
        "  if not rest:\n",
        "    score += m[(selected[0],selected[-1])] + m[(selected[-1],selected[0])]\n",
        "    top_score[0] = max(top_score[0], score)\n",
        "    return\n",
        "  for guest in rest:\n",
        "    new_score = score+m[(selected[-1],guest)]+m[(guest,selected[-1])] if len(selected)>0 else score\n",
        "    dfs(selected + [guest], rest-{guest}, new_score)\n",
        "dfs([], guests, 0)\n",
        "top_score"
      ],
      "metadata": {
        "colab": {
          "base_uri": "https://localhost:8080/"
        },
        "id": "Jdix65VHOGCM",
        "outputId": "397c707e-03a6-482d-b772-497ad0c6c73f"
      },
      "execution_count": 43,
      "outputs": [
        {
          "output_type": "execute_result",
          "data": {
            "text/plain": [
              "[664]"
            ]
          },
          "metadata": {},
          "execution_count": 43
        }
      ]
    },
    {
      "cell_type": "code",
      "source": [
        "top_score = [0]\n",
        "\n",
        "def calc_score(guest1, guest2):\n",
        "  if 'self' in [guest1,guest2]:\n",
        "    return 0\n",
        "  return m[(guest1,guest2)]+m[(guest2,guest1)]\n",
        "\n",
        "def dfs2(selected, rest, score):\n",
        "  if not rest:\n",
        "    score += calc_score(selected[0],selected[-1])\n",
        "    top_score[0] = max(top_score[0], score)\n",
        "    return\n",
        "  for guest in rest:\n",
        "    new_score = score+calc_score(selected[-1],guest) if len(selected)>0 else score\n",
        "    dfs2(selected + [guest], rest-{guest}, new_score)\n",
        "dfs2([], guests|{'self'}, 0)\n",
        "top_score"
      ],
      "metadata": {
        "colab": {
          "base_uri": "https://localhost:8080/"
        },
        "id": "wjamYAj3Q23k",
        "outputId": "c7f9f29e-360a-4bf7-86f1-111bc245dabf"
      },
      "execution_count": 50,
      "outputs": [
        {
          "output_type": "execute_result",
          "data": {
            "text/plain": [
              "[640]"
            ]
          },
          "metadata": {},
          "execution_count": 50
        }
      ]
    }
  ]
}