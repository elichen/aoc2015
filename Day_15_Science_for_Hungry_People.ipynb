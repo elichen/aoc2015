{
  "nbformat": 4,
  "nbformat_minor": 0,
  "metadata": {
    "colab": {
      "provenance": [],
      "authorship_tag": "ABX9TyN+Zks7Jvsm9IQbM6/SdLuS",
      "include_colab_link": true
    },
    "kernelspec": {
      "name": "python3",
      "display_name": "Python 3"
    },
    "language_info": {
      "name": "python"
    }
  },
  "cells": [
    {
      "cell_type": "markdown",
      "metadata": {
        "id": "view-in-github",
        "colab_type": "text"
      },
      "source": [
        "<a href=\"https://colab.research.google.com/github/elichen/aoc2015/blob/main/Day_15_Science_for_Hungry_People.ipynb\" target=\"_parent\"><img src=\"https://colab.research.google.com/assets/colab-badge.svg\" alt=\"Open In Colab\"/></a>"
      ]
    },
    {
      "cell_type": "code",
      "source": [
        "data = \"\"\"Butterscotch: capacity -1, durability -2, flavor 6, texture 3, calories 8\n",
        "Cinnamon: capacity 2, durability 3, flavor -2, texture -1, calories 3\"\"\".split('\\n')"
      ],
      "metadata": {
        "id": "1xMS8i2HRWnQ"
      },
      "execution_count": 27,
      "outputs": []
    },
    {
      "cell_type": "code",
      "execution_count": 33,
      "metadata": {
        "id": "LbY2PFyQRQEy"
      },
      "outputs": [],
      "source": [
        "data = \"\"\"Sprinkles: capacity 5, durability -1, flavor 0, texture 0, calories 5\n",
        "PeanutButter: capacity -1, durability 3, flavor 0, texture 0, calories 1\n",
        "Frosting: capacity 0, durability -1, flavor 4, texture 0, calories 6\n",
        "Sugar: capacity -1, durability 0, flavor 0, texture 2, calories 8\"\"\".split('\\n')"
      ]
    },
    {
      "cell_type": "code",
      "source": [
        "from functools import reduce\n",
        "\n",
        "def score(ings):\n",
        "  totals = [0,0,0,0]\n",
        "  for i,line in enumerate(data):\n",
        "    l = line.split()\n",
        "    name = l[0][:-1]\n",
        "    cap, dur, fla, tex, cal = list(map(int,[l[2][:-1],l[4][:-1],l[6][:-1],l[8][:-1],l[10]]))\n",
        "    props = (x*ings[i] for x in [cap, dur, fla, tex])\n",
        "    totals = [x+y for x,y in zip(totals,props)]\n",
        "  totals = [max(0,x) for x in totals]\n",
        "  return reduce(lambda x,y: x*y, totals)"
      ],
      "metadata": {
        "id": "2J8AyePihrbM"
      },
      "execution_count": 23,
      "outputs": []
    },
    {
      "cell_type": "code",
      "source": [
        "best_score = 0\n",
        "for i in range(100):\n",
        "  for j in range(100-i):\n",
        "    for k in range(100-i-j):\n",
        "      l = 100-i-j-k\n",
        "      best_score = max(score([i,j,k,l]),best_score)\n",
        "best_score"
      ],
      "metadata": {
        "colab": {
          "base_uri": "https://localhost:8080/"
        },
        "id": "GRGl5HK3RUuS",
        "outputId": "ccd5f920-faeb-4aac-85e1-1785f2b5caf9"
      },
      "execution_count": 24,
      "outputs": [
        {
          "output_type": "execute_result",
          "data": {
            "text/plain": [
              "13882464"
            ]
          },
          "metadata": {},
          "execution_count": 24
        }
      ]
    },
    {
      "cell_type": "code",
      "source": [
        "def score2(ings):\n",
        "  totals = [0,0,0,0,0]\n",
        "  for i,line in enumerate(data):\n",
        "    l = line.split()\n",
        "    name = l[0][:-1]\n",
        "    cap, dur, fla, tex, cal = list(map(int,[l[2][:-1],l[4][:-1],l[6][:-1],l[8][:-1],l[10]]))\n",
        "    props = (x*ings[i] for x in [cap, dur, fla, tex, cal])\n",
        "    totals = [x+y for x,y in zip(totals,props)]\n",
        "  totals = [max(0,x) for x in totals]\n",
        "  return reduce(lambda x,y: x*y, totals[:4]) if totals[-1] == 500 else 0\n",
        "\n",
        "best_score = 0\n",
        "for i in range(100):\n",
        "  for j in range(100-i):\n",
        "    for k in range(100-i-j):\n",
        "      l = 100-i-j-k\n",
        "      best_score = max(score2([i,j,k,l]),best_score)\n",
        "best_score"
      ],
      "metadata": {
        "colab": {
          "base_uri": "https://localhost:8080/"
        },
        "id": "4CE3e5xW_dqy",
        "outputId": "5a5ec003-5483-423e-c786-dfc198d38829"
      },
      "execution_count": 34,
      "outputs": [
        {
          "output_type": "execute_result",
          "data": {
            "text/plain": [
              "11171160"
            ]
          },
          "metadata": {},
          "execution_count": 34
        }
      ]
    }
  ]
}