{
  "nbformat": 4,
  "nbformat_minor": 0,
  "metadata": {
    "colab": {
      "provenance": [],
      "authorship_tag": "ABX9TyM1+K+eMN1qUS+ZXIg9Sz+d",
      "include_colab_link": true
    },
    "kernelspec": {
      "name": "python3",
      "display_name": "Python 3"
    },
    "language_info": {
      "name": "python"
    }
  },
  "cells": [
    {
      "cell_type": "markdown",
      "metadata": {
        "id": "view-in-github",
        "colab_type": "text"
      },
      "source": [
        "<a href=\"https://colab.research.google.com/github/elichen/aoc2015/blob/main/Day_8_Matchsticks.ipynb\" target=\"_parent\"><img src=\"https://colab.research.google.com/assets/colab-badge.svg\" alt=\"Open In Colab\"/></a>"
      ]
    },
    {
      "cell_type": "code",
      "source": [
        "data = \"\"\"\\\"\\\"\n",
        "\\\"abc\\\"\n",
        "\\\"aaa\\\\\"aaa\\\"\n",
        "\\\"\\\\x27\\\"\"\"\".split('\\n')"
      ],
      "metadata": {
        "id": "YUgpfE0X9OGl"
      },
      "execution_count": 60,
      "outputs": []
    },
    {
      "cell_type": "code",
      "source": [
        "data = open(\"input.txt\").read().splitlines()"
      ],
      "metadata": {
        "id": "0A0MErXt9XHt"
      },
      "execution_count": 61,
      "outputs": []
    },
    {
      "cell_type": "code",
      "execution_count": 62,
      "metadata": {
        "colab": {
          "base_uri": "https://localhost:8080/"
        },
        "id": "dKPa4qAv2d4r",
        "outputId": "11f21659-ce16-4bf0-b15d-fbe7ea287385"
      },
      "outputs": [
        {
          "output_type": "execute_result",
          "data": {
            "text/plain": [
              "1342"
            ]
          },
          "metadata": {},
          "execution_count": 62
        }
      ],
      "source": [
        "def decode_string(s):\n",
        "    s = s.replace('\\\\\\\\', '\\\\').replace('\\\\\"', '\"')\n",
        "    import re\n",
        "    return re.sub(r'\\\\x([0-9A-Fa-f]{2})', lambda match: chr(int(match.group(1), 16)), s)\n",
        "\n",
        "total = 0\n",
        "for s in data:\n",
        "  total += len(s)-len(eval(s))\n",
        "total"
      ]
    },
    {
      "cell_type": "code",
      "source": [
        "def encode(s):\n",
        "    original_with_quotes = '\"' + s + '\"'\n",
        "    encoded = '\"' + s.replace(\"\\\\\", \"\\\\\\\\\").replace('\"', '\\\\\"') + '\"'\n",
        "    encoded_escaped = '\"' + encoded.replace(\"\\\\\", \"\\\\\\\\\").replace('\"', '\\\\\"') + '\"'\n",
        "\n",
        "    return encoded\n",
        "\n",
        "total = 0\n",
        "for s in data:\n",
        "  total += len(encode(s)) - len(s)\n",
        "total"
      ],
      "metadata": {
        "colab": {
          "base_uri": "https://localhost:8080/"
        },
        "id": "sz0AUOY8-Mh8",
        "outputId": "aad3a04a-5e2c-44f1-cb84-24fb81745049"
      },
      "execution_count": 65,
      "outputs": [
        {
          "output_type": "execute_result",
          "data": {
            "text/plain": [
              "2074"
            ]
          },
          "metadata": {},
          "execution_count": 65
        }
      ]
    }
  ]
}