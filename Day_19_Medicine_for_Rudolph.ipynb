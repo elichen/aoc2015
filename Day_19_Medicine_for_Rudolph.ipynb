{
  "nbformat": 4,
  "nbformat_minor": 0,
  "metadata": {
    "colab": {
      "provenance": [],
      "authorship_tag": "ABX9TyNu0k54GFtQq88b97yVs2sy",
      "include_colab_link": true
    },
    "kernelspec": {
      "name": "python3",
      "display_name": "Python 3"
    },
    "language_info": {
      "name": "python"
    }
  },
  "cells": [
    {
      "cell_type": "markdown",
      "metadata": {
        "id": "view-in-github",
        "colab_type": "text"
      },
      "source": [
        "<a href=\"https://colab.research.google.com/github/elichen/aoc2015/blob/main/Day_19_Medicine_for_Rudolph.ipynb\" target=\"_parent\"><img src=\"https://colab.research.google.com/assets/colab-badge.svg\" alt=\"Open In Colab\"/></a>"
      ]
    },
    {
      "cell_type": "code",
      "execution_count": 29,
      "metadata": {
        "id": "FQ-e7H-9L6Wl"
      },
      "outputs": [],
      "source": [
        "data = \"\"\"Ha => HO\n",
        "H => OH\n",
        "O => HH\n",
        "\n",
        "HaH\"\"\".split('\\n')"
      ]
    },
    {
      "cell_type": "code",
      "source": [
        "data = open(\"input.txt\").read().splitlines()"
      ],
      "metadata": {
        "id": "0ZYDv23EHkti"
      },
      "execution_count": 30,
      "outputs": []
    },
    {
      "cell_type": "code",
      "source": [
        "d = {}\n",
        "for line in data[:-2]:\n",
        "  k,v = line.split(\" => \")\n",
        "  d[k] = d.get(k, []) + [v]"
      ],
      "metadata": {
        "id": "jk3wnN1wMLRi"
      },
      "execution_count": 31,
      "outputs": []
    },
    {
      "cell_type": "code",
      "source": [
        "s = data[-1]\n",
        "l = set()\n",
        "for i in range(len(s)):\n",
        "  if s[i] in d:\n",
        "    for c in d[s[i]]:\n",
        "      l.add(s[:i]+c+s[i+1:])\n",
        "  if s[i-1:i+1] in d:\n",
        "    for c in d[s[i-1:i+1]]:\n",
        "      l.add(s[:i-1]+c+s[i+1:])\n",
        "len(l)"
      ],
      "metadata": {
        "colab": {
          "base_uri": "https://localhost:8080/"
        },
        "id": "eW-ZRyG-Mvt6",
        "outputId": "561991b1-f597-4b91-ed99-b2026283b499"
      },
      "execution_count": 33,
      "outputs": [
        {
          "output_type": "execute_result",
          "data": {
            "text/plain": [
              "576"
            ]
          },
          "metadata": {},
          "execution_count": 33
        }
      ]
    },
    {
      "cell_type": "code",
      "source": [],
      "metadata": {
        "id": "9QWYmSQEHBRc"
      },
      "execution_count": 32,
      "outputs": []
    }
  ]
}