{
  "cells": [
    {
      "cell_type": "markdown",
      "metadata": {
        "id": "view-in-github",
        "colab_type": "text"
      },
      "source": [
        "<a href=\"https://colab.research.google.com/github/elichen/aoc2015/blob/main/Day_19_Medicine_for_Rudolph.ipynb\" target=\"_parent\"><img src=\"https://colab.research.google.com/assets/colab-badge.svg\" alt=\"Open In Colab\"/></a>"
      ]
    },
    {
      "cell_type": "code",
      "execution_count": null,
      "metadata": {
        "id": "FQ-e7H-9L6Wl"
      },
      "outputs": [],
      "source": [
        "data = \"\"\"e => H\n",
        "e => O\n",
        "H => HO\n",
        "H => OH\n",
        "O => HH\n",
        "\n",
        "HOHOHO\"\"\".split('\\n')"
      ]
    },
    {
      "cell_type": "code",
      "execution_count": null,
      "metadata": {
        "id": "0ZYDv23EHkti"
      },
      "outputs": [],
      "source": [
        "data = open(\"input.txt\").read().splitlines()"
      ]
    },
    {
      "cell_type": "code",
      "execution_count": null,
      "metadata": {
        "id": "jk3wnN1wMLRi"
      },
      "outputs": [],
      "source": [
        "forward = {}\n",
        "for line in data[:-2]:\n",
        "  k,v = line.split(\" => \")\n",
        "  forward[k] = forward.get(k, []) + [v]\n",
        "\n",
        "reverse = {}\n",
        "for k,v in forward.items():\n",
        "  for c in v:\n",
        "    reverse[c] = k\n",
        "\n",
        "target = data[-1]"
      ]
    },
    {
      "cell_type": "code",
      "execution_count": null,
      "metadata": {
        "id": "s3VOwrh8NOAw"
      },
      "outputs": [],
      "source": [
        "def molecules(s):\n",
        "  return sum(1 for char in s if char.isupper())"
      ]
    },
    {
      "cell_type": "code",
      "execution_count": null,
      "metadata": {
        "colab": {
          "base_uri": "https://localhost:8080/"
        },
        "id": "qNXVngl6cKVd",
        "outputId": "a7b04965-15e4-49ba-afa9-587b646019fa"
      },
      "outputs": [
        {
          "output_type": "execute_result",
          "data": {
            "text/plain": [
              "576"
            ]
          },
          "metadata": {},
          "execution_count": 100
        }
      ],
      "source": [
        "def step_forward(s):\n",
        "  l = set()\n",
        "  for i in range(len(s)):\n",
        "    if s[i] in forward:\n",
        "      for c in forward[s[i]]:\n",
        "        l.add(s[:i]+c+s[i+1:])\n",
        "    if s[i-1:i+1] in forward:\n",
        "      for c in forward[s[i-1:i+1]]:\n",
        "        l.add(s[:i-1]+c+s[i+1:])\n",
        "  return l\n",
        "\n",
        "len(step_forward(target))"
      ]
    },
    {
      "cell_type": "code",
      "source": [
        "reverse_keys = ['CRnFYFYFAr',\n",
        " 'SiRnFYFAr',\n",
        " 'CRnFYMgAr',\n",
        " 'CRnMgYFAr',\n",
        " 'NRnFYFAr',\n",
        " 'CRnFYFAr',\n",
        " 'ThRnFAr',\n",
        " 'TiRnFAr',\n",
        " 'PRnFAr',\n",
        " 'SiRnMgAr',\n",
        " 'CRnAlAr',\n",
        " 'NRnMgAr',\n",
        " 'ORnFAr',\n",
        " 'CRnFAr',\n",
        " 'CRnMgAr',\n",
        " 'NRnFAr',\n",
        " 'SiRnFAr',\n",
        " 'CaCa',\n",
        " 'TiTi',\n",
        " 'ThF',\n",
        " 'BCa',\n",
        " 'TiB',\n",
        " 'PB',\n",
        " 'SiTh',\n",
        " 'CaF',\n",
        " 'PMg',\n",
        " 'SiAl',\n",
        " 'HCa',\n",
        " 'NTh',\n",
        " 'OB',\n",
        " 'BF',\n",
        " 'TiMg',\n",
        " 'HSi',\n",
        " 'HP',\n",
        " 'OTi',\n",
        " 'CaP',\n",
        " 'PTi',\n",
        " 'CaSi',\n",
        " 'ThCa',\n",
        " 'BP',\n",
        " 'HF',\n",
        " 'NAl',\n",
        " 'OMg']"
      ],
      "metadata": {
        "id": "QgqMa8zxGRnu"
      },
      "execution_count": null,
      "outputs": []
    },
    {
      "cell_type": "code",
      "execution_count": null,
      "metadata": {
        "id": "uRzTtWbooTzs"
      },
      "outputs": [],
      "source": [
        "def step_reverse(s):\n",
        "    if s in {k for k, v in reverse.items() if v == 'e'}:\n",
        "        return{'e'}\n",
        "\n",
        "    l = set()\n",
        "    for k in reverse_keys:\n",
        "        v = reverse[k]\n",
        "        if v == 'e':continue\n",
        "        start = 0\n",
        "        while True:\n",
        "            idx = s.find(k, start)\n",
        "            if idx == -1:  # Not found\n",
        "                break\n",
        "            l.add(s[:idx] + v + s[idx + len(k):])\n",
        "            start = idx + 1  # Move past the last found position\n",
        "            if (k == 'CaCa' or k == 'TiTi'): return l\n",
        "        if len(k) > 4 and len(l)>0: return l\n",
        "\n",
        "    return l"
      ]
    },
    {
      "cell_type": "code",
      "execution_count": null,
      "metadata": {
        "colab": {
          "base_uri": "https://localhost:8080/"
        },
        "id": "SAyC-t24np1i",
        "outputId": "a0398525-109f-4fda-8a3c-0bde0353cde8"
      },
      "outputs": [
        {
          "output_type": "execute_result",
          "data": {
            "text/plain": [
              "[207]"
            ]
          },
          "metadata": {},
          "execution_count": 103
        }
      ],
      "source": [
        "seen = set()\n",
        "min_depth = [float(\"inf\")]\n",
        "max_reduction = max(molecules(x) for x in reverse.keys())\n",
        "\n",
        "def dfs(s,depth=0):\n",
        "  if depth+molecules(s) >= min_depth[0]:\n",
        "    return\n",
        "  if s in seen: return\n",
        "  seen.add(s)\n",
        "  if s == \"e\":\n",
        "    min_depth[0] = min(min_depth[0], depth)\n",
        "  next = step_reverse(s)\n",
        "  for c in next:\n",
        "    dfs(c,depth+1)\n",
        "dfs(target)\n",
        "min_depth"
      ]
    },
    {
      "cell_type": "code",
      "source": [],
      "metadata": {
        "id": "HV3uGoQkMdH0"
      },
      "execution_count": null,
      "outputs": []
    }
  ],
  "metadata": {
    "colab": {
      "provenance": [],
      "authorship_tag": "ABX9TyObbYhkICm0yvnQFx8hK9sM",
      "include_colab_link": true
    },
    "kernelspec": {
      "display_name": "Python 3",
      "name": "python3"
    },
    "language_info": {
      "name": "python"
    }
  },
  "nbformat": 4,
  "nbformat_minor": 0
}