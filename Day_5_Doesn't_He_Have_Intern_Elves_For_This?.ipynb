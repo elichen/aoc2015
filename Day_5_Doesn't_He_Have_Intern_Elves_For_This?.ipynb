{
  "nbformat": 4,
  "nbformat_minor": 0,
  "metadata": {
    "colab": {
      "provenance": [],
      "authorship_tag": "ABX9TyMGsh6kfaHd7tIB33JYYnCH",
      "include_colab_link": true
    },
    "kernelspec": {
      "name": "python3",
      "display_name": "Python 3"
    },
    "language_info": {
      "name": "python"
    }
  },
  "cells": [
    {
      "cell_type": "markdown",
      "metadata": {
        "id": "view-in-github",
        "colab_type": "text"
      },
      "source": [
        "<a href=\"https://colab.research.google.com/github/elichen/aoc2015/blob/main/Day_5_Doesn't_He_Have_Intern_Elves_For_This%3F.ipynb\" target=\"_parent\"><img src=\"https://colab.research.google.com/assets/colab-badge.svg\" alt=\"Open In Colab\"/></a>"
      ]
    },
    {
      "cell_type": "code",
      "source": [
        "data = open(\"input.txt\").read().splitlines()"
      ],
      "metadata": {
        "id": "aFiW5Lzr-qoW"
      },
      "execution_count": 37,
      "outputs": []
    },
    {
      "cell_type": "code",
      "execution_count": 38,
      "metadata": {
        "colab": {
          "base_uri": "https://localhost:8080/"
        },
        "id": "ThW-jUMH8oe-",
        "outputId": "524ebc67-9f56-451e-a140-cd03590389fb"
      },
      "outputs": [
        {
          "output_type": "execute_result",
          "data": {
            "text/plain": [
              "238"
            ]
          },
          "metadata": {},
          "execution_count": 38
        }
      ],
      "source": [
        "def is_nice(s):\n",
        "  if any(sub in s for sub in ['ab', 'cd', 'pq', 'xy']):\n",
        "    return False\n",
        "  if sum(1 for char in s if char in 'aeiou') < 3:\n",
        "    return False\n",
        "  if not any(s[i] == s[i+1] for i in range(len(s)-1)):\n",
        "    return False\n",
        "  return True\n",
        "\n",
        "total = 0\n",
        "for s in data:\n",
        "  if is_nice(s): total += 1\n",
        "total"
      ]
    },
    {
      "cell_type": "code",
      "source": [
        "def is_nice2(s):\n",
        "  if not any(s.count(a+b)>1 for a,b in zip(s,s[1:])):\n",
        "    return False\n",
        "  if not any(s[i] == s[i+2] for i in range(len(s)-2)):\n",
        "    return False\n",
        "  return True\n",
        "\n",
        "total = 0\n",
        "for s in data:\n",
        "  if is_nice2(s): total += 1\n",
        "total"
      ],
      "metadata": {
        "colab": {
          "base_uri": "https://localhost:8080/"
        },
        "id": "VScHk04v-_bG",
        "outputId": "5ae1d3cc-64bf-4902-973e-40bb9214d8c4"
      },
      "execution_count": 54,
      "outputs": [
        {
          "output_type": "execute_result",
          "data": {
            "text/plain": [
              "69"
            ]
          },
          "metadata": {},
          "execution_count": 54
        }
      ]
    }
  ]
}