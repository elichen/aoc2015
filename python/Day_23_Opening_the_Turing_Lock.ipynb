{
  "nbformat": 4,
  "nbformat_minor": 0,
  "metadata": {
    "colab": {
      "provenance": [],
      "authorship_tag": "ABX9TyPL6Og78Z1t2SSjgxXhjixX",
      "include_colab_link": true
    },
    "kernelspec": {
      "name": "python3",
      "display_name": "Python 3"
    },
    "language_info": {
      "name": "python"
    }
  },
  "cells": [
    {
      "cell_type": "markdown",
      "metadata": {
        "id": "view-in-github",
        "colab_type": "text"
      },
      "source": [
        "<a href=\"https://colab.research.google.com/github/elichen/aoc2015/blob/main/Day_23_Opening_the_Turing_Lock.ipynb\" target=\"_parent\"><img src=\"https://colab.research.google.com/assets/colab-badge.svg\" alt=\"Open In Colab\"/></a>"
      ]
    },
    {
      "cell_type": "code",
      "source": [
        "data = \"\"\"inc a\n",
        "jio a, +2\n",
        "tpl a\n",
        "inc a\"\"\".split('\\n')"
      ],
      "metadata": {
        "id": "l9wc7PJ3Oftw"
      },
      "execution_count": 9,
      "outputs": []
    },
    {
      "cell_type": "code",
      "source": [
        "data = open(\"input.txt\").read().splitlines()"
      ],
      "metadata": {
        "id": "M4xc7AwKQl1t"
      },
      "execution_count": 10,
      "outputs": []
    },
    {
      "cell_type": "code",
      "execution_count": 11,
      "metadata": {
        "colab": {
          "base_uri": "https://localhost:8080/"
        },
        "id": "HAiKhcfjOF0q",
        "outputId": "49c1f167-d507-4731-b5af-4162a1b2a8ec"
      },
      "outputs": [
        {
          "output_type": "execute_result",
          "data": {
            "text/plain": [
              "{'a': 1, 'b': 184}"
            ]
          },
          "metadata": {},
          "execution_count": 11
        }
      ],
      "source": [
        "def run(prog, r={'a':0, 'b':0}):\n",
        "  pc = 0\n",
        "  while pc >=0 and pc < len(prog):\n",
        "    op = prog[pc][:3]\n",
        "    if op == \"hlf\":\n",
        "      a = prog[pc][4]\n",
        "      r[a] = r[a]//2\n",
        "      pc += 1\n",
        "    elif op == \"tpl\":\n",
        "      a = prog[pc][4]\n",
        "      r[a] = r[a]*3\n",
        "      pc += 1\n",
        "    elif op == \"inc\":\n",
        "      a = prog[pc][4]\n",
        "      r[a] = r[a]+1\n",
        "      pc += 1\n",
        "    elif op == \"jmp\":\n",
        "      d = int(prog[pc][4:])\n",
        "      pc += d\n",
        "    elif op == \"jie\":\n",
        "      a = prog[pc][4]\n",
        "      d = int(prog[pc][7:])\n",
        "      if r[a] % 2 == 0:\n",
        "        pc += d\n",
        "      else:\n",
        "        pc += 1\n",
        "    elif op == \"jio\":\n",
        "      a = prog[pc][4]\n",
        "      d = int(prog[pc][7:])\n",
        "      if r[a] == 1:\n",
        "        pc += d\n",
        "      else:\n",
        "        pc += 1\n",
        "  return r\n",
        "run(data)"
      ]
    },
    {
      "cell_type": "code",
      "source": [
        "run(data, r={'a':1, 'b':0})"
      ],
      "metadata": {
        "colab": {
          "base_uri": "https://localhost:8080/"
        },
        "id": "lfNqjfrrQcHz",
        "outputId": "3bc137f3-1c3a-4098-c65e-d7f7685eaff6"
      },
      "execution_count": 12,
      "outputs": [
        {
          "output_type": "execute_result",
          "data": {
            "text/plain": [
              "{'a': 1, 'b': 231}"
            ]
          },
          "metadata": {},
          "execution_count": 12
        }
      ]
    }
  ]
}