{
  "nbformat": 4,
  "nbformat_minor": 0,
  "metadata": {
    "colab": {
      "provenance": [],
      "authorship_tag": "ABX9TyMU1sAO1BXUchqPe0FudWVJ",
      "include_colab_link": true
    },
    "kernelspec": {
      "name": "python3",
      "display_name": "Python 3"
    },
    "language_info": {
      "name": "python"
    }
  },
  "cells": [
    {
      "cell_type": "markdown",
      "metadata": {
        "id": "view-in-github",
        "colab_type": "text"
      },
      "source": [
        "<a href=\"https://colab.research.google.com/github/elichen/aoc2015/blob/main/Day_16_Aunt_Sue.ipynb\" target=\"_parent\"><img src=\"https://colab.research.google.com/assets/colab-badge.svg\" alt=\"Open In Colab\"/></a>"
      ]
    },
    {
      "cell_type": "code",
      "execution_count": 21,
      "metadata": {
        "id": "4XkXqe8i0qD6"
      },
      "outputs": [],
      "source": [
        "data = open(\"input.txt\").read().splitlines()"
      ]
    },
    {
      "cell_type": "code",
      "source": [
        "output = \"\"\"children: 3\n",
        "cats: 7\n",
        "samoyeds: 2\n",
        "pomeranians: 3\n",
        "akitas: 0\n",
        "vizslas: 0\n",
        "goldfish: 5\n",
        "trees: 3\n",
        "cars: 2\n",
        "perfumes: 1\"\"\".split('\\n')"
      ],
      "metadata": {
        "id": "p4Mmf3Yl05qA"
      },
      "execution_count": 22,
      "outputs": []
    },
    {
      "cell_type": "code",
      "source": [
        "gift = {}\n",
        "for line in output:\n",
        "  k,v = line.split(': ')\n",
        "  gift[k] = int(v)"
      ],
      "metadata": {
        "id": "rjBQJIrG1FYY"
      },
      "execution_count": 23,
      "outputs": []
    },
    {
      "cell_type": "code",
      "source": [
        "import re\n",
        "for line in data:\n",
        "  name_idx = line.index(': ')\n",
        "  name = line[:name_idx]\n",
        "  kvs = line[name_idx+2:].split(', ')\n",
        "  for pair in kvs:\n",
        "    k,v = pair.split(': ')\n",
        "    if gift[k] != int(v):\n",
        "      break\n",
        "  else:\n",
        "    print(name)"
      ],
      "metadata": {
        "colab": {
          "base_uri": "https://localhost:8080/"
        },
        "id": "mXSTVbjj2Ecq",
        "outputId": "c0c1b794-f79b-4e2f-bc34-f4419a72c4fb"
      },
      "execution_count": 24,
      "outputs": [
        {
          "output_type": "stream",
          "name": "stdout",
          "text": [
            "Sue 373\n"
          ]
        }
      ]
    },
    {
      "cell_type": "code",
      "source": [
        "import re\n",
        "for line in data:\n",
        "  name_idx = line.index(': ')\n",
        "  name = line[:name_idx]\n",
        "  kvs = line[name_idx+2:].split(', ')\n",
        "  for pair in kvs:\n",
        "    k,v = pair.split(': ')\n",
        "    if k in ['cats','trees']:\n",
        "      if not gift[k] < int(v):\n",
        "        break\n",
        "    elif k in ['pomeranians','goldfish']:\n",
        "      if not gift[k] > int(v):\n",
        "        break\n",
        "    elif gift[k] != int(v):\n",
        "      break\n",
        "  else:\n",
        "    print(name)"
      ],
      "metadata": {
        "colab": {
          "base_uri": "https://localhost:8080/"
        },
        "id": "piNKNZlg962Q",
        "outputId": "c2098c89-7368-4220-dc0c-63b729bdfc5d"
      },
      "execution_count": 25,
      "outputs": [
        {
          "output_type": "stream",
          "name": "stdout",
          "text": [
            "Sue 260\n"
          ]
        }
      ]
    }
  ]
}