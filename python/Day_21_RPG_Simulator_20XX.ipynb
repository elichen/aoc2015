{
  "nbformat": 4,
  "nbformat_minor": 0,
  "metadata": {
    "colab": {
      "provenance": [],
      "authorship_tag": "ABX9TyMIkwNa2MoTXrCpK2uHF2Kx",
      "include_colab_link": true
    },
    "kernelspec": {
      "name": "python3",
      "display_name": "Python 3"
    },
    "language_info": {
      "name": "python"
    }
  },
  "cells": [
    {
      "cell_type": "markdown",
      "metadata": {
        "id": "view-in-github",
        "colab_type": "text"
      },
      "source": [
        "<a href=\"https://colab.research.google.com/github/elichen/aoc2015/blob/main/Day_21_RPG_Simulator_20XX.ipynb\" target=\"_parent\"><img src=\"https://colab.research.google.com/assets/colab-badge.svg\" alt=\"Open In Colab\"/></a>"
      ]
    },
    {
      "cell_type": "code",
      "source": [
        "data = \"\"\"Weapons:    Cost  Damage  Armor\n",
        "Dagger        8     4       0\n",
        "Shortsword   10     5       0\n",
        "Warhammer    25     6       0\n",
        "Longsword    40     7       0\n",
        "Greataxe     74     8       0\n",
        "\n",
        "Armor:      Cost  Damage  Armor\n",
        "Leather      13     0       1\n",
        "Chainmail    31     0       2\n",
        "Splintmail   53     0       3\n",
        "Bandedmail   75     0       4\n",
        "Platemail   102     0       5\n",
        "\n",
        "Rings:      Cost  Damage  Armor\n",
        "Damage +1    25     1       0\n",
        "Damage +2    50     2       0\n",
        "Damage +3   100     3       0\n",
        "Defense +1   20     0       1\n",
        "Defense +2   40     0       2\n",
        "Defense +3   80     0       3\"\"\".split('\\n')"
      ],
      "metadata": {
        "id": "XUlUKEH4mjdi"
      },
      "execution_count": 4,
      "outputs": []
    },
    {
      "cell_type": "code",
      "source": [
        "weapons = {}\n",
        "i = 1\n",
        "while data[i] != '':\n",
        "  l = data[i].split()\n",
        "  weapons[l[0]] = list(map(int, l[1:])) # cost, damage, armor\n",
        "  i += 1\n",
        "i += 2\n",
        "armors = {}\n",
        "while data[i] != '':\n",
        "  l = data[i].split()\n",
        "  armors[l[0]] = list(map(int, l[1:])) # cost, damage, armor\n",
        "  i += 1\n",
        "i += 2\n",
        "rings = {}\n",
        "while i < len(data):\n",
        "  l = data[i].split()\n",
        "  rings[l[0]+l[1]] = list(map(int, l[2:])) # cost, damage, armor\n",
        "  i += 1"
      ],
      "metadata": {
        "id": "Ys0xx6Jnm2N8"
      },
      "execution_count": 13,
      "outputs": []
    },
    {
      "cell_type": "code",
      "execution_count": 42,
      "metadata": {
        "id": "PZpBUEpybRjz"
      },
      "outputs": [],
      "source": [
        "def fight(ph, pd, pa, bh, bd, ba):\n",
        "  while ph > 0 and bh > 0:\n",
        "    bh -= max(1, pd-ba)\n",
        "    if bh <= 0: break\n",
        "    ph -= max(1, bd-pa)\n",
        "    if ph <= 0: break\n",
        "  return ph>bh\n",
        "# fight(8, 5, 5, 12, 7, 2)"
      ]
    },
    {
      "cell_type": "code",
      "source": [
        "# Boss\n",
        "# Hit Points: 109\n",
        "# Damage: 8\n",
        "# Armor: 2"
      ],
      "metadata": {
        "id": "ErC8mweCmFC2"
      },
      "execution_count": null,
      "outputs": []
    },
    {
      "cell_type": "code",
      "source": [
        "from itertools import combinations\n",
        "\n",
        "wins = []\n",
        "for w in weapons:\n",
        "  for a in list(armors)+[None]:\n",
        "    for num_r in range(3):\n",
        "      for l in combinations(rings, num_r):\n",
        "        ph,pd,pa = 100, weapons[w][1], 0\n",
        "        cost = weapons[w][0]\n",
        "        if a:\n",
        "          t = armors[a]\n",
        "          cost += t[0]\n",
        "          pd += t[1]\n",
        "          pa += t[2]\n",
        "        for r in l:\n",
        "          t = rings[r]\n",
        "          cost += t[0]\n",
        "          pd += t[1]\n",
        "          pa += t[2]\n",
        "        # print(cost,w,a,l,ph,pd,pa)\n",
        "        if fight(ph,pd,pa, 109, 8, 2):\n",
        "          wins.append((cost,w,a,l,ph,pd,pa))\n",
        "min(wins)"
      ],
      "metadata": {
        "colab": {
          "base_uri": "https://localhost:8080/"
        },
        "id": "OVDUdzMZopTC",
        "outputId": "2be448c9-c17d-403b-acfc-d517822a6877"
      },
      "execution_count": 63,
      "outputs": [
        {
          "output_type": "execute_result",
          "data": {
            "text/plain": [
              "(111, 'Longsword', 'Chainmail', ('Defense+2',), 100, 7, 4)"
            ]
          },
          "metadata": {},
          "execution_count": 63
        }
      ]
    },
    {
      "cell_type": "code",
      "source": [
        "loses = []\n",
        "for w in weapons:\n",
        "  for a in list(armors)+[None]:\n",
        "    for num_r in range(3):\n",
        "      for l in combinations(rings, num_r):\n",
        "        ph,pd,pa = 100, weapons[w][1], 0\n",
        "        cost = weapons[w][0]\n",
        "        if a:\n",
        "          t = armors[a]\n",
        "          cost += t[0]\n",
        "          pd += t[1]\n",
        "          pa += t[2]\n",
        "        for r in l:\n",
        "          t = rings[r]\n",
        "          cost += t[0]\n",
        "          pd += t[1]\n",
        "          pa += t[2]\n",
        "        # print(cost,w,a,l,ph,pd,pa)\n",
        "        if not fight(ph,pd,pa, 109, 8, 2):\n",
        "          loses.append((cost,w,a,l,ph,pd,pa))\n",
        "max(loses)"
      ],
      "metadata": {
        "colab": {
          "base_uri": "https://localhost:8080/"
        },
        "id": "HFIXDgh5xD-B",
        "outputId": "af561a34-62cd-4359-801d-db616088f3f4"
      },
      "execution_count": 65,
      "outputs": [
        {
          "output_type": "execute_result",
          "data": {
            "text/plain": [
              "(188, 'Dagger', None, ('Damage+3', 'Defense+3'), 100, 7, 3)"
            ]
          },
          "metadata": {},
          "execution_count": 65
        }
      ]
    }
  ]
}