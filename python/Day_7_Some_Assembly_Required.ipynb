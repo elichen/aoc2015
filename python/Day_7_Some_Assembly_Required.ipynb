{
  "nbformat": 4,
  "nbformat_minor": 0,
  "metadata": {
    "colab": {
      "provenance": [],
      "authorship_tag": "ABX9TyPE/QaUwx1QoDOyZUO4b4bg",
      "include_colab_link": true
    },
    "kernelspec": {
      "name": "python3",
      "display_name": "Python 3"
    },
    "language_info": {
      "name": "python"
    }
  },
  "cells": [
    {
      "cell_type": "markdown",
      "metadata": {
        "id": "view-in-github",
        "colab_type": "text"
      },
      "source": [
        "<a href=\"https://colab.research.google.com/github/elichen/aoc2015/blob/main/Day_7_Some_Assembly_Required.ipynb\" target=\"_parent\"><img src=\"https://colab.research.google.com/assets/colab-badge.svg\" alt=\"Open In Colab\"/></a>"
      ]
    },
    {
      "cell_type": "code",
      "execution_count": 41,
      "metadata": {
        "id": "Buk1DM7KPHif"
      },
      "outputs": [],
      "source": [
        "data = \"\"\"123 -> x\n",
        "456 -> y\n",
        "x AND y -> d\n",
        "x OR y -> e\n",
        "x LSHIFT 2 -> f\n",
        "y RSHIFT 2 -> g\n",
        "NOT x -> h\n",
        "NOT y -> i\"\"\".split('\\n')"
      ]
    },
    {
      "cell_type": "code",
      "source": [
        "data = open(\"input.txt\").read().splitlines()"
      ],
      "metadata": {
        "id": "krCL-KNFSUYe"
      },
      "execution_count": 42,
      "outputs": []
    },
    {
      "cell_type": "code",
      "source": [
        "wires = {}\n",
        "for line in data:\n",
        "  v,k = line.split(\" -> \")\n",
        "  wires[k] = v\n",
        "\n",
        "from functools import lru_cache\n",
        "\n",
        "@lru_cache(maxsize=None)\n",
        "def eval(val):\n",
        "  if \"AND\" in val:\n",
        "    w1, _, w2 = val.split()\n",
        "    return eval(w1) & eval(w2)\n",
        "  elif \"OR\" in val:\n",
        "    w1, _, w2 = val.split()\n",
        "    return eval(w1) | eval(w2)\n",
        "  elif \"LSHIFT\" in val:\n",
        "    w1, _, n = val.split()\n",
        "    return (eval(w1) << int(n)) & 0xFFFF\n",
        "  elif \"RSHIFT\" in val:\n",
        "    w1, _, n = val.split()\n",
        "    return (eval(w1) >> int(n)) & 0xFFFF\n",
        "  elif \"NOT\" in val:\n",
        "    _, w1 = val.split()\n",
        "    return ~eval(w1) & 0xFFFF\n",
        "  elif val.isdigit():\n",
        "    return int(val)\n",
        "  else:\n",
        "    return eval(wires[val])\n",
        "\n",
        "eval(wires[\"a\"])"
      ],
      "metadata": {
        "colab": {
          "base_uri": "https://localhost:8080/"
        },
        "id": "5ldOKgOKPOjN",
        "outputId": "1b2e5a6f-7190-459e-e364-e955cbe8740b"
      },
      "execution_count": 43,
      "outputs": [
        {
          "output_type": "execute_result",
          "data": {
            "text/plain": [
              "956"
            ]
          },
          "metadata": {},
          "execution_count": 43
        }
      ]
    },
    {
      "cell_type": "code",
      "source": [
        "wires[\"b\"] = \"956\"\n",
        "eval.cache_clear()\n",
        "\n",
        "eval(wires[\"a\"])"
      ],
      "metadata": {
        "colab": {
          "base_uri": "https://localhost:8080/"
        },
        "id": "ijG59SFLXAg0",
        "outputId": "8bbb7685-4c5d-4c2f-8d14-02185c23e2a6"
      },
      "execution_count": 49,
      "outputs": [
        {
          "output_type": "execute_result",
          "data": {
            "text/plain": [
              "40149"
            ]
          },
          "metadata": {},
          "execution_count": 49
        }
      ]
    }
  ]
}