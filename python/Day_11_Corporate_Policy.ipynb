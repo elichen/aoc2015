{
  "nbformat": 4,
  "nbformat_minor": 0,
  "metadata": {
    "colab": {
      "provenance": [],
      "authorship_tag": "ABX9TyPx9A1AJigUFfg7klaaCnPn",
      "include_colab_link": true
    },
    "kernelspec": {
      "name": "python3",
      "display_name": "Python 3"
    },
    "language_info": {
      "name": "python"
    }
  },
  "cells": [
    {
      "cell_type": "markdown",
      "metadata": {
        "id": "view-in-github",
        "colab_type": "text"
      },
      "source": [
        "<a href=\"https://colab.research.google.com/github/elichen/aoc2015/blob/main/Day_11_Corporate_Policy.ipynb\" target=\"_parent\"><img src=\"https://colab.research.google.com/assets/colab-badge.svg\" alt=\"Open In Colab\"/></a>"
      ]
    },
    {
      "cell_type": "code",
      "source": [
        "def increment(s):\n",
        "    # Define characters to skip\n",
        "    skip_chars = {'i', 'o', 'l'}\n",
        "    next_chars = {'h': 'j', 'n': 'p', 'k': 'm', 'i': 'j', 'o': 'p', 'l': 'm'}  # Include skipped characters\n",
        "    result = list(s)\n",
        "\n",
        "    # Start from the end of the string\n",
        "    i = len(s) - 1\n",
        "    while i >= 0:\n",
        "        # Increment character or wrap to 'a'\n",
        "        if result[i] == 'z':\n",
        "            result[i] = 'a'\n",
        "            i -= 1\n",
        "        else:\n",
        "            # Increment character\n",
        "            next_char = chr(ord(result[i]) + 1)\n",
        "            # Correctly skip 'i', 'o', 'l'\n",
        "            if next_char in skip_chars or result[i] in next_chars:\n",
        "                next_char = next_chars.get(result[i], next_char)\n",
        "            result[i] = next_char\n",
        "            break  # Stop after incrementing once\n",
        "    else:\n",
        "        # Prepend 'a' if we've wrapped all characters\n",
        "        result.insert(0, 'a')\n",
        "\n",
        "    return ''.join(result)"
      ],
      "metadata": {
        "id": "etzTBJizW2TQ"
      },
      "execution_count": 133,
      "outputs": []
    },
    {
      "cell_type": "code",
      "source": [
        "def req1(s):\n",
        "  os = [(ord(c)-ord('a')) for c in s]\n",
        "  return any(os[i]==os[i+1]-1==os[i+2]-2 for i in range(len(s)-2))\n",
        "\n",
        "def req2(s):\n",
        "  return not any(c in ['i','o','l'] for c in s)\n",
        "\n",
        "def req3(s):\n",
        "  return len(set(s[i] for i in range(len(s)-1) if s[i]==s[i+1])) >= 2\n",
        "\n",
        "def valid(s):\n",
        "  return req1(s) and req2(s) and req3(s)\n",
        "\n",
        "def next(s):\n",
        "  while True:\n",
        "    s = increment(s)\n",
        "    if valid(s): return s\n",
        "\n",
        "next(\"hepxcrrq\")"
      ],
      "metadata": {
        "colab": {
          "base_uri": "https://localhost:8080/",
          "height": 35
        },
        "id": "BcO-0JZMJorB",
        "outputId": "ebf2714c-9118-4489-cc56-4e2a20e0b1d1"
      },
      "execution_count": 135,
      "outputs": [
        {
          "output_type": "execute_result",
          "data": {
            "text/plain": [
              "'hepxxyzz'"
            ],
            "application/vnd.google.colaboratory.intrinsic+json": {
              "type": "string"
            }
          },
          "metadata": {},
          "execution_count": 135
        }
      ]
    },
    {
      "cell_type": "code",
      "source": [
        "next(\"hepxxyzz\")"
      ],
      "metadata": {
        "colab": {
          "base_uri": "https://localhost:8080/",
          "height": 35
        },
        "id": "oVpdVZCyTSoj",
        "outputId": "8b523c3d-dc93-4b58-85a7-8d1d5c0ae201"
      },
      "execution_count": 136,
      "outputs": [
        {
          "output_type": "execute_result",
          "data": {
            "text/plain": [
              "'heqaabcc'"
            ],
            "application/vnd.google.colaboratory.intrinsic+json": {
              "type": "string"
            }
          },
          "metadata": {},
          "execution_count": 136
        }
      ]
    }
  ]
}