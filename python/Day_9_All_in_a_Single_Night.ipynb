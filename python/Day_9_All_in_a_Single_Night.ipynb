{
  "nbformat": 4,
  "nbformat_minor": 0,
  "metadata": {
    "colab": {
      "provenance": [],
      "authorship_tag": "ABX9TyPE6dcRfVQ/WdC89V8f7JuE",
      "include_colab_link": true
    },
    "kernelspec": {
      "name": "python3",
      "display_name": "Python 3"
    },
    "language_info": {
      "name": "python"
    }
  },
  "cells": [
    {
      "cell_type": "markdown",
      "metadata": {
        "id": "view-in-github",
        "colab_type": "text"
      },
      "source": [
        "<a href=\"https://colab.research.google.com/github/elichen/aoc2015/blob/main/Day_9_All_in_a_Single_Night.ipynb\" target=\"_parent\"><img src=\"https://colab.research.google.com/assets/colab-badge.svg\" alt=\"Open In Colab\"/></a>"
      ]
    },
    {
      "cell_type": "code",
      "execution_count": 22,
      "metadata": {
        "id": "yN2f8F07YHDc"
      },
      "outputs": [],
      "source": [
        "data = \"\"\"London to Dublin = 464\n",
        "London to Belfast = 518\n",
        "Dublin to Belfast = 141\"\"\".split('\\n')"
      ]
    },
    {
      "cell_type": "code",
      "source": [
        "data = \"\"\"Faerun to Tristram = 65\n",
        "Faerun to Tambi = 129\n",
        "Faerun to Norrath = 144\n",
        "Faerun to Snowdin = 71\n",
        "Faerun to Straylight = 137\n",
        "Faerun to AlphaCentauri = 3\n",
        "Faerun to Arbre = 149\n",
        "Tristram to Tambi = 63\n",
        "Tristram to Norrath = 4\n",
        "Tristram to Snowdin = 105\n",
        "Tristram to Straylight = 125\n",
        "Tristram to AlphaCentauri = 55\n",
        "Tristram to Arbre = 14\n",
        "Tambi to Norrath = 68\n",
        "Tambi to Snowdin = 52\n",
        "Tambi to Straylight = 65\n",
        "Tambi to AlphaCentauri = 22\n",
        "Tambi to Arbre = 143\n",
        "Norrath to Snowdin = 8\n",
        "Norrath to Straylight = 23\n",
        "Norrath to AlphaCentauri = 136\n",
        "Norrath to Arbre = 115\n",
        "Snowdin to Straylight = 101\n",
        "Snowdin to AlphaCentauri = 84\n",
        "Snowdin to Arbre = 96\n",
        "Straylight to AlphaCentauri = 107\n",
        "Straylight to Arbre = 14\n",
        "AlphaCentauri to Arbre = 46\"\"\".split('\\n')"
      ],
      "metadata": {
        "id": "jofZ7qh4ZWRt"
      },
      "execution_count": 23,
      "outputs": []
    },
    {
      "cell_type": "code",
      "source": [
        "m = {}\n",
        "cities = set()\n",
        "for line in data:\n",
        "  src, _, dst, _, d = line.split()\n",
        "  d = int(d)\n",
        "  m[(src,dst)] = d\n",
        "  m[(dst,src)] = d\n",
        "  cities.add(src)\n",
        "  cities.add(dst)"
      ],
      "metadata": {
        "id": "NBwoxRBQYQSz"
      },
      "execution_count": 24,
      "outputs": []
    },
    {
      "cell_type": "code",
      "source": [
        "min_dist = [float(\"inf\")]\n",
        "def dfs(curr, visited, rest, dist):\n",
        "  if not rest:\n",
        "    min_dist[0] = min(min_dist[0], dist)\n",
        "    return\n",
        "  for city in rest:\n",
        "    if city == curr: continue\n",
        "    dfs(city, visited|{city}, rest-{city}, dist+m[(curr,city)])\n",
        "\n",
        "for city in cities:\n",
        "  dfs(city, {city}, cities-{city}, 0)\n",
        "min_dist"
      ],
      "metadata": {
        "colab": {
          "base_uri": "https://localhost:8080/"
        },
        "id": "gcma_CBaaLgn",
        "outputId": "e3f47e57-16c5-43ee-d932-4503ea5332f3"
      },
      "execution_count": 25,
      "outputs": [
        {
          "output_type": "execute_result",
          "data": {
            "text/plain": [
              "[117]"
            ]
          },
          "metadata": {},
          "execution_count": 25
        }
      ]
    },
    {
      "cell_type": "code",
      "source": [
        "max_dist = [0]\n",
        "def dfs(curr, visited, rest, dist):\n",
        "  if not rest:\n",
        "    max_dist[0] = max(max_dist[0], dist)\n",
        "    return\n",
        "  for city in rest:\n",
        "    if city == curr: continue\n",
        "    dfs(city, visited|{city}, rest-{city}, dist+m[(curr,city)])\n",
        "\n",
        "for city in cities:\n",
        "  dfs(city, {city}, cities-{city}, 0)\n",
        "max_dist"
      ],
      "metadata": {
        "colab": {
          "base_uri": "https://localhost:8080/"
        },
        "id": "0gNTWat5ZFyp",
        "outputId": "93c27246-9c9e-46d5-8a00-3d8cea9a775c"
      },
      "execution_count": 26,
      "outputs": [
        {
          "output_type": "execute_result",
          "data": {
            "text/plain": [
              "[909]"
            ]
          },
          "metadata": {},
          "execution_count": 26
        }
      ]
    }
  ]
}