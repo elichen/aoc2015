{
  "nbformat": 4,
  "nbformat_minor": 0,
  "metadata": {
    "colab": {
      "provenance": [],
      "authorship_tag": "ABX9TyNPYNeY6jW8YsHkb+sxpY6W",
      "include_colab_link": true
    },
    "kernelspec": {
      "name": "python3",
      "display_name": "Python 3"
    },
    "language_info": {
      "name": "python"
    }
  },
  "cells": [
    {
      "cell_type": "markdown",
      "metadata": {
        "id": "view-in-github",
        "colab_type": "text"
      },
      "source": [
        "<a href=\"https://colab.research.google.com/github/elichen/aoc2015/blob/main/Day_1_Not_Quite_Lisp.ipynb\" target=\"_parent\"><img src=\"https://colab.research.google.com/assets/colab-badge.svg\" alt=\"Open In Colab\"/></a>"
      ]
    },
    {
      "cell_type": "code",
      "source": [
        "data = open(\"input.txt\").read()"
      ],
      "metadata": {
        "id": "zKZxmIjDNePa"
      },
      "execution_count": null,
      "outputs": []
    },
    {
      "cell_type": "code",
      "execution_count": null,
      "metadata": {
        "colab": {
          "base_uri": "https://localhost:8080/"
        },
        "id": "5vH2M9JHNCl5",
        "outputId": "24e48eea-a6a9-4cc9-8e7a-a5e3047836d6"
      },
      "outputs": [
        {
          "output_type": "execute_result",
          "data": {
            "text/plain": [
              "280"
            ]
          },
          "metadata": {},
          "execution_count": 16
        }
      ],
      "source": [
        "def count_floors(s):\n",
        "  total = 0\n",
        "  for c in s:\n",
        "    total += 1 if c==\"(\" else -1\n",
        "  return total\n",
        "\n",
        "count_floors(data)"
      ]
    },
    {
      "cell_type": "code",
      "source": [
        "def basement(s):\n",
        "  curr = 0\n",
        "  for i,c in enumerate(s):\n",
        "    curr += 1 if c==\"(\" else -1\n",
        "    if curr == -1:\n",
        "      return i+1\n",
        "  return None\n",
        "\n",
        "basement(data)"
      ],
      "metadata": {
        "colab": {
          "base_uri": "https://localhost:8080/"
        },
        "id": "k7Ot3NcjXP1i",
        "outputId": "3572d402-3ed0-417d-fcf3-5715f7827e1f"
      },
      "execution_count": null,
      "outputs": [
        {
          "output_type": "execute_result",
          "data": {
            "text/plain": [
              "1797"
            ]
          },
          "metadata": {},
          "execution_count": 17
        }
      ]
    },
    {
      "cell_type": "code",
      "source": [],
      "metadata": {
        "id": "PqkCG99YXhlY"
      },
      "execution_count": null,
      "outputs": []
    }
  ]
}