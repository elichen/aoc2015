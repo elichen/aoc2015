{
  "nbformat": 4,
  "nbformat_minor": 0,
  "metadata": {
    "colab": {
      "provenance": [],
      "authorship_tag": "ABX9TyPU/blKmWsdQ1L/OBPx7tkq",
      "include_colab_link": true
    },
    "kernelspec": {
      "name": "python3",
      "display_name": "Python 3"
    },
    "language_info": {
      "name": "python"
    }
  },
  "cells": [
    {
      "cell_type": "markdown",
      "metadata": {
        "id": "view-in-github",
        "colab_type": "text"
      },
      "source": [
        "<a href=\"https://colab.research.google.com/github/elichen/aoc2015/blob/main/Day_10_Elves_Look%2C_Elves_Say.ipynb\" target=\"_parent\"><img src=\"https://colab.research.google.com/assets/colab-badge.svg\" alt=\"Open In Colab\"/></a>"
      ]
    },
    {
      "cell_type": "code",
      "execution_count": 7,
      "metadata": {
        "colab": {
          "base_uri": "https://localhost:8080/"
        },
        "id": "FBON_pZFCSH-",
        "outputId": "056ab101-0d48-4f74-b4a5-d0d8bccd97e4"
      },
      "outputs": [
        {
          "output_type": "execute_result",
          "data": {
            "text/plain": [
              "329356"
            ]
          },
          "metadata": {},
          "execution_count": 7
        }
      ],
      "source": [
        "def gen(s):\n",
        "  out = []\n",
        "  pc = None\n",
        "  span = 0\n",
        "  for c in s:\n",
        "    if c == pc:\n",
        "      span += 1\n",
        "    else:\n",
        "      if pc != None:\n",
        "        out += [str(span), pc]\n",
        "      span = 1\n",
        "      pc = c\n",
        "  out += [str(span), pc]\n",
        "  return \"\".join(out)\n",
        "\n",
        "s = \"3113322113\"\n",
        "for _ in range(40):\n",
        "  s = gen(s)\n",
        "len(s)"
      ]
    },
    {
      "cell_type": "code",
      "source": [
        "s = \"3113322113\"\n",
        "for _ in range(50):\n",
        "  s = gen(s)\n",
        "len(s)"
      ],
      "metadata": {
        "colab": {
          "base_uri": "https://localhost:8080/"
        },
        "id": "xjn0iNUKD-MK",
        "outputId": "f59e5e53-4c0d-41e2-b440-303c22fb76d0"
      },
      "execution_count": 8,
      "outputs": [
        {
          "output_type": "execute_result",
          "data": {
            "text/plain": [
              "4666278"
            ]
          },
          "metadata": {},
          "execution_count": 8
        }
      ]
    }
  ]
}