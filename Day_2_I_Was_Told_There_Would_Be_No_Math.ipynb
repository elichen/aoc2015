{
  "nbformat": 4,
  "nbformat_minor": 0,
  "metadata": {
    "colab": {
      "provenance": [],
      "authorship_tag": "ABX9TyOzPBnLNt748xTKq26Y0XaL",
      "include_colab_link": true
    },
    "kernelspec": {
      "name": "python3",
      "display_name": "Python 3"
    },
    "language_info": {
      "name": "python"
    }
  },
  "cells": [
    {
      "cell_type": "markdown",
      "metadata": {
        "id": "view-in-github",
        "colab_type": "text"
      },
      "source": [
        "<a href=\"https://colab.research.google.com/github/elichen/aoc2015/blob/main/Day_2_I_Was_Told_There_Would_Be_No_Math.ipynb\" target=\"_parent\"><img src=\"https://colab.research.google.com/assets/colab-badge.svg\" alt=\"Open In Colab\"/></a>"
      ]
    },
    {
      "cell_type": "code",
      "source": [
        "data = open(\"input.txt\").read().splitlines()"
      ],
      "metadata": {
        "id": "1ukI8U9hX36i"
      },
      "execution_count": 10,
      "outputs": []
    },
    {
      "cell_type": "code",
      "execution_count": 11,
      "metadata": {
        "colab": {
          "base_uri": "https://localhost:8080/"
        },
        "id": "tobAzzGXWzdd",
        "outputId": "8a1722dd-e45b-4b73-eb4a-a99109537580"
      },
      "outputs": [
        {
          "output_type": "execute_result",
          "data": {
            "text/plain": [
              "1606483"
            ]
          },
          "metadata": {},
          "execution_count": 11
        }
      ],
      "source": [
        "def area(s):\n",
        "  l,w,h = list(map(int,s.split('x')))\n",
        "  sides = [l*w, w*h, h*l]\n",
        "  return 2*sum(sides) + min(sides)\n",
        "\n",
        "total = 0\n",
        "for s in data:\n",
        "  total += area(s)\n",
        "total"
      ]
    }
  ]
}